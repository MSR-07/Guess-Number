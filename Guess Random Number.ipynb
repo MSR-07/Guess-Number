{
 "cells": [
  {
   "cell_type": "code",
   "execution_count": 1,
   "id": "888da4c0",
   "metadata": {},
   "outputs": [],
   "source": [
    "import random"
   ]
  },
  {
   "cell_type": "code",
   "execution_count": 9,
   "id": "84a7df7c",
   "metadata": {},
   "outputs": [
    {
     "name": "stdout",
     "output_type": "stream",
     "text": [
      "guess the number11\n",
      "guess the number12\n",
      "guess the number15\n",
      "Your guess is incorrect the number is 4\n"
     ]
    }
   ],
   "source": [
    "number = random.randint(1,10)\n",
    "for i in range(0,3):\n",
    "    user = int(input(\"Guess the Number\"))\n",
    "    if user == number:\n",
    "        print(\"Bravo!!\")\n",
    "        print(f\"You Guessed the Number Right It's {number}\")\n",
    "        break\n",
    "if user != number:\n",
    "    print(f\"You Made a Wrong Guess, Number is {number}\")"
   ]
  },
  {
   "cell_type": "code",
   "execution_count": null,
   "id": "2980c0f3",
   "metadata": {},
   "outputs": [],
   "source": []
  }
 ],
 "metadata": {
  "kernelspec": {
   "display_name": "Python 3 (ipykernel)",
   "language": "python",
   "name": "python3"
  },
  "language_info": {
   "codemirror_mode": {
    "name": "ipython",
    "version": 3
   },
   "file_extension": ".py",
   "mimetype": "text/x-python",
   "name": "python",
   "nbconvert_exporter": "python",
   "pygments_lexer": "ipython3",
   "version": "3.10.1"
  }
 },
 "nbformat": 4,
 "nbformat_minor": 5
}
